{
 "cells": [
  {
   "cell_type": "code",
   "execution_count": 2,
   "metadata": {},
   "outputs": [
    {
     "data": {
      "text/plain": [
       "ID          int64\n",
       "Name       object\n",
       "Sex        object\n",
       "Age       float64\n",
       "Height    float64\n",
       "Weight    float64\n",
       "Team       object\n",
       "NOC        object\n",
       "Games      object\n",
       "Year        int64\n",
       "Season     object\n",
       "City       object\n",
       "Sport      object\n",
       "Event      object\n",
       "Medal      object\n",
       "dtype: object"
      ]
     },
     "execution_count": 2,
     "metadata": {},
     "output_type": "execute_result"
    }
   ],
   "source": [
    "import pandas as pd\n",
    "data=pd.read_csv('athlete_events.csv')\n",
    "mRatio=data[(data['Sex']=='M')].groupby('Year').size()\n",
    "data.dtypes"
   ]
  },
  {
   "cell_type": "code",
   "execution_count": 3,
   "metadata": {},
   "outputs": [],
   "source": [
    "import tkinter as tk\n",
    "import numpy as np\n",
    "import pandas as pd\n",
    "import matplotlib.pyplot as plt\n",
    "#import seaborn as sns\n",
    "from matplotlib.backends.backend_tkagg import FigureCanvasTkAgg\n",
    "data=pd.read_csv('athlete_events.csv')\n",
    "data['Medal'].fillna(0,inplace=True)\n",
    "data['Medal'].replace(0,\"None\",inplace=True)\n",
    "data.update(data[['Age','Height','Weight']].fillna(0))\n",
    "\n",
    "\n",
    "\n",
    "def world():\n",
    "    sexRatio=data.groupby('Sex').size()\n",
    "    root=tk.Tk() \n",
    "    labels = 'Female', 'Male'\n",
    "    sizes = sexRatio\n",
    "    explode = (0, 0.1)\n",
    "    fig1, ax1 = plt.subplots()\n",
    "    ax1.pie(sizes, explode=explode, labels=labels, autopct='%1.1f%%',\n",
    "            shadow=True, startangle=90)\n",
    "    ax1.axis('equal')  # Equal aspect ratio ensures that pie is drawn as a circle.\n",
    "    bar1 = FigureCanvasTkAgg(fig1, root)\n",
    "    bar1.get_tk_widget().pack(side=tk.LEFT, fill=tk.BOTH)\n",
    "    figure1 = plt.Figure(figsize=(16,16), dpi=100)\n",
    "    ax1.set_title('Male Vs Female ratio')\n",
    "\n",
    "    \n",
    "    \n",
    "    root.mainloop()\n"
   ]
  },
  {
   "cell_type": "code",
   "execution_count": 4,
   "metadata": {},
   "outputs": [],
   "source": [
    "#The Figure class represents the drawing area on which matplotlib charts will\n",
    "#be drawn. \n",
    "#The FigureCanvasTkAgg class is an interface between the Fig and Tkinter Canvas .\n",
    "#get_tk_widget() returns the Tk widget used to implement FigureCanvasTkAgg.\n",
    "\n",
    "def mworld():\n",
    "    mRatio=data.loc[(data['Sex']=='M')].groupby(data['Year']).size()\n",
    "    root= tk.Tk() \n",
    "    mRatio.head()\n",
    "    figure1 = plt.Figure(figsize=(16,12), dpi=100)\n",
    "    ax1 = figure1.add_subplot(111)\n",
    "    bar1 = FigureCanvasTkAgg(figure1, root)\n",
    "    bar1.get_tk_widget().pack(side=tk.LEFT, fill=tk.BOTH)\n",
    "    mRatio.plot(kind='bar', ax=ax1)\n",
    "    ax1.set_title('Year-wise Male Players')\n",
    "    root.mainloop()"
   ]
  },
  {
   "cell_type": "code",
   "execution_count": 5,
   "metadata": {},
   "outputs": [],
   "source": [
    "def fworld():\n",
    "    findia=data.loc[(data['Sex']=='F')].groupby(data['Year']).size()\n",
    "    root= tk.Tk() \n",
    "\n",
    "    figure1 = plt.Figure(figsize=(16,8), dpi=100)\n",
    "    ax1 = figure1.add_subplot(111)\n",
    "    bar1 = FigureCanvasTkAgg(figure1, root)\n",
    "    bar1.get_tk_widget().pack(side=tk.LEFT, fill=tk.BOTH)\n",
    "    findia.plot(kind='bar', ax=ax1)\n",
    "    ax1.set_title('Female Vs Year')\n",
    "    root.mainloop()"
   ]
  },
  {
   "cell_type": "code",
   "execution_count": 19,
   "metadata": {},
   "outputs": [],
   "source": [
    "def medalindia():\n",
    "    g=data.loc[(data['Team']=='India')].groupby('Medal').size()\n",
    "    root= tk.Tk() \n",
    "\n",
    "    figure1 = plt.Figure(figsize=(16,8), dpi=100)\n",
    "    ax1 = figure1.add_subplot(111)\n",
    "    bar1 = FigureCanvasTkAgg(figure1, root)\n",
    "    bar1.get_tk_widget().pack(side=tk.LEFT, fill=tk.BOTH)\n",
    "    g.plot(kind='bar', ax=ax1)\n",
    "    ax1.set_title('Distribution Of Medal in India')\n",
    "    root.mainloop()\n"
   ]
  },
  {
   "cell_type": "code",
   "execution_count": 20,
   "metadata": {},
   "outputs": [],
   "source": [
    "def sportmedals():\n",
    "    a=data.loc[(data['Team']=='India')].groupby(data['Sport']).size()\n",
    "    root= tk.Tk() \n",
    "    \n",
    "    figure1 = plt.Figure(figsize=(16,8), dpi=100)\n",
    "    ax1 = figure1.add_subplot(111)\n",
    "    bar1 = FigureCanvasTkAgg(figure1, root)\n",
    "    bar1.get_tk_widget().pack(side=tk.LEFT, fill=tk.BOTH)\n",
    "    a.plot(kind='bar', ax=ax1)\n",
    "    ax1.set_title('Sport wise distribution of medal in India')\n",
    "    root.mainloop()\n",
    "\n",
    "    "
   ]
  },
  {
   "cell_type": "code",
   "execution_count": 21,
   "metadata": {},
   "outputs": [],
   "source": [
    "def fmedal():\n",
    "    a=data.loc[(data['Team']=='India')&(data['Sex']=='F')].groupby(data['Year']).size()\n",
    "    root= tk.Tk() \n",
    "\n",
    "    figure1 = plt.Figure(figsize=(6,5), dpi=100)\n",
    "    ax1 = figure1.add_subplot(111)\n",
    "    bar1 = FigureCanvasTkAgg(figure1, root)\n",
    "    bar1.get_tk_widget().pack(side=tk.LEFT, fill=tk.BOTH)\n",
    "    a.plot(kind='bar', ax=ax1)\n",
    "    ax1.set_title('Female Vs Year (India)')\n",
    "    root.mainloop()"
   ]
  },
  {
   "cell_type": "code",
   "execution_count": 22,
   "metadata": {},
   "outputs": [],
   "source": [
    "def mmedal():\n",
    "    g=data.loc[(data['Team']=='India')&(data['Sex']=='M')&(data['Medal']=='Gold')].groupby('Year').size()\n",
    "    root= tk.Tk() \n",
    "\n",
    "    figure1 = plt.Figure(figsize=(16,8), dpi=100)\n",
    "    ax1 = figure1.add_subplot(111)\n",
    "    bar1 = FigureCanvasTkAgg(figure1, root)\n",
    "    bar1.get_tk_widget().pack(side=tk.LEFT, fill=tk.BOTH)\n",
    "    g.plot(kind='bar', ax=ax1)\n",
    "    ax1.set_title('Male Vs Year (India)')\n",
    "    root.mainloop()"
   ]
  },
  {
   "cell_type": "code",
   "execution_count": 23,
   "metadata": {},
   "outputs": [],
   "source": [
    "def ygold():    \n",
    "    a=data.loc[(data['NOC'] == 'IND') & (data['Medal'] == 'Gold')].groupby('Year').size()\n",
    "    root= tk.Tk() \n",
    "\n",
    "    figure1 = plt.Figure(figsize=(16,5), dpi=100)\n",
    "    ax1 = figure1.add_subplot(111)\n",
    "    bar1 = FigureCanvasTkAgg(figure1, root)\n",
    "    bar1.get_tk_widget().pack(side=tk.LEFT, fill=tk.BOTH)\n",
    "    a.plot(kind='bar', ax=ax1)\n",
    "    ax1.set_title('Gold medal won by india ever')\n",
    "    root.mainloop()"
   ]
  },
  {
   "cell_type": "code",
   "execution_count": 24,
   "metadata": {},
   "outputs": [],
   "source": [
    "def season():\n",
    "    goldmedals=data[(data.Medal=='Gold')]\n",
    "    root= tk.Tk() \n",
    "\n",
    "    figure1 = plt.Figure(figsize=(6,5), dpi=100)\n",
    "    ax1 = figure1.add_subplot(111)\n",
    "    bar1 = FigureCanvasTkAgg(figure1, root)\n",
    "    bar1.get_tk_widget().pack(side=tk.LEFT, fill=tk.BOTH)\n",
    "    a.plot(kind='bar', ax=ax1)\n",
    "    ax1.set_title('Gold medal won by india ever')\n",
    "    root.mainloop()"
   ]
  },
  {
   "cell_type": "code",
   "execution_count": 25,
   "metadata": {},
   "outputs": [],
   "source": [
    "def gAge():\n",
    "    goldmedals=data.loc[(data['Medal']=='Gold')].groupby('Age').size()\n",
    "    \n",
    "    root= tk.Tk() \n",
    "\n",
    "    figure1 = plt.Figure(figsize=(16,8), dpi=100)\n",
    "    ax1 = figure1.add_subplot(111)\n",
    "    bar1 = FigureCanvasTkAgg(figure1, root)\n",
    "    bar1.get_tk_widget().pack(side=tk.LEFT, fill=tk.BOTH)\n",
    "    goldmedals.plot(kind='bar', ax=ax1)\n",
    "    ax1.set_title('Gold medal Vs Age group')\n",
    "    root.mainloop()"
   ]
  },
  {
   "cell_type": "code",
   "execution_count": 26,
   "metadata": {},
   "outputs": [],
   "source": [
    "def sAge():\n",
    "    silvermedals=data.loc[(data['Medal']=='Silver')].groupby('Age').size()\n",
    "    root=tk.Tk() \n",
    "\n",
    "    figure1 = plt.Figure(figsize=(16,8), dpi=100)\n",
    "    ax1 = figure1.add_subplot(111)\n",
    "    bar1 = FigureCanvasTkAgg(figure1, root)\n",
    "    bar1.get_tk_widget().pack(side=tk.LEFT, fill=tk.BOTH)\n",
    "    silvermedals.plot(kind='bar', ax=ax1)\n",
    "    ax1.set_title('Silver medal Vs Age group')\n",
    "    root.mainloop()"
   ]
  },
  {
   "cell_type": "code",
   "execution_count": 27,
   "metadata": {},
   "outputs": [],
   "source": [
    "def bAge():\n",
    "    bronzemedals=data.loc[(data['Medal']=='Bronze')].groupby('Age').size()\n",
    "    root=tk.Tk() \n",
    "\n",
    "    figure1 = plt.Figure(figsize=(16,8), dpi=100)\n",
    "    ax1 = figure1.add_subplot(111)\n",
    "    bar1 = FigureCanvasTkAgg(figure1, root)\n",
    "    bar1.get_tk_widget().pack(side=tk.LEFT, fill=tk.BOTH)\n",
    "    bronzemedals.plot(kind='bar', ax=ax1)\n",
    "    ax1.set_title('Bronze medal Vs Age group')\n",
    "    root.mainloop()"
   ]
  },
  {
   "cell_type": "code",
   "execution_count": null,
   "metadata": {},
   "outputs": [],
   "source": []
  },
  {
   "cell_type": "code",
   "execution_count": 6,
   "metadata": {},
   "outputs": [
    {
     "ename": "NameError",
     "evalue": "name 'medalindia' is not defined",
     "output_type": "error",
     "traceback": [
      "\u001b[1;31m---------------------------------------------------------------------------\u001b[0m",
      "\u001b[1;31mNameError\u001b[0m                                 Traceback (most recent call last)",
      "\u001b[1;32m~\\AppData\\Local\\Temp\\ipykernel_952\\3850816499.py\u001b[0m in \u001b[0;36m<module>\u001b[1;34m\u001b[0m\n\u001b[0;32m     61\u001b[0m \u001b[0mbutton2\u001b[0m\u001b[1;33m=\u001b[0m \u001b[0mButton\u001b[0m\u001b[1;33m(\u001b[0m\u001b[0mframe\u001b[0m\u001b[1;33m,\u001b[0m\u001b[0mtext\u001b[0m\u001b[1;33m=\u001b[0m\u001b[1;34m\"click here\"\u001b[0m\u001b[1;33m,\u001b[0m\u001b[0mcommand\u001b[0m\u001b[1;33m=\u001b[0m\u001b[0mmworld\u001b[0m\u001b[1;33m,\u001b[0m\u001b[0mbd\u001b[0m \u001b[1;33m=\u001b[0m \u001b[1;36m5\u001b[0m\u001b[1;33m,\u001b[0m \u001b[0mfg\u001b[0m \u001b[1;33m=\u001b[0m \u001b[1;34m\"black\"\u001b[0m\u001b[1;33m,\u001b[0m\u001b[0mfont\u001b[0m\u001b[1;33m=\u001b[0m\u001b[1;33m(\u001b[0m\u001b[1;34m'mistral'\u001b[0m\u001b[1;33m,\u001b[0m\u001b[1;36m15\u001b[0m\u001b[1;33m,\u001b[0m\u001b[1;33m)\u001b[0m\u001b[1;33m,\u001b[0m\u001b[0mwidth\u001b[0m\u001b[1;33m=\u001b[0m\u001b[1;36m12\u001b[0m\u001b[1;33m,\u001b[0m\u001b[0mbg\u001b[0m\u001b[1;33m=\u001b[0m\u001b[1;34m\"grey\"\u001b[0m\u001b[1;33m)\u001b[0m\u001b[1;33m\u001b[0m\u001b[1;33m\u001b[0m\u001b[0m\n\u001b[0;32m     62\u001b[0m \u001b[0mbutton3\u001b[0m\u001b[1;33m=\u001b[0m \u001b[0mButton\u001b[0m\u001b[1;33m(\u001b[0m\u001b[0mframe\u001b[0m\u001b[1;33m,\u001b[0m\u001b[0mtext\u001b[0m\u001b[1;33m=\u001b[0m\u001b[1;34m'click here'\u001b[0m\u001b[1;33m,\u001b[0m\u001b[0mcommand\u001b[0m\u001b[1;33m=\u001b[0m\u001b[0mfworld\u001b[0m\u001b[1;33m,\u001b[0m\u001b[0mbd\u001b[0m \u001b[1;33m=\u001b[0m \u001b[1;36m5\u001b[0m\u001b[1;33m,\u001b[0m \u001b[0mfg\u001b[0m \u001b[1;33m=\u001b[0m \u001b[1;34m\"black\"\u001b[0m\u001b[1;33m,\u001b[0m\u001b[0mfont\u001b[0m\u001b[1;33m=\u001b[0m\u001b[1;33m(\u001b[0m\u001b[1;34m'mistral'\u001b[0m\u001b[1;33m,\u001b[0m\u001b[1;36m15\u001b[0m\u001b[1;33m,\u001b[0m\u001b[1;33m)\u001b[0m\u001b[1;33m,\u001b[0m\u001b[0mwidth\u001b[0m\u001b[1;33m=\u001b[0m\u001b[1;36m12\u001b[0m\u001b[1;33m,\u001b[0m\u001b[0mbg\u001b[0m\u001b[1;33m=\u001b[0m\u001b[1;34m\"grey\"\u001b[0m\u001b[1;33m)\u001b[0m\u001b[1;33m\u001b[0m\u001b[1;33m\u001b[0m\u001b[0m\n\u001b[1;32m---> 63\u001b[1;33m \u001b[0mbutton4\u001b[0m\u001b[1;33m=\u001b[0m \u001b[0mButton\u001b[0m\u001b[1;33m(\u001b[0m\u001b[0mframe\u001b[0m\u001b[1;33m,\u001b[0m\u001b[0mtext\u001b[0m\u001b[1;33m=\u001b[0m\u001b[1;34m\"click here\"\u001b[0m\u001b[1;33m,\u001b[0m\u001b[0mcommand\u001b[0m\u001b[1;33m=\u001b[0m\u001b[0mmedalindia\u001b[0m\u001b[1;33m,\u001b[0m\u001b[0mbd\u001b[0m \u001b[1;33m=\u001b[0m \u001b[1;36m5\u001b[0m\u001b[1;33m,\u001b[0m \u001b[0mfg\u001b[0m \u001b[1;33m=\u001b[0m \u001b[1;34m\"black\"\u001b[0m\u001b[1;33m,\u001b[0m\u001b[0mfont\u001b[0m\u001b[1;33m=\u001b[0m\u001b[1;33m(\u001b[0m\u001b[1;34m'mistral'\u001b[0m\u001b[1;33m,\u001b[0m\u001b[1;36m15\u001b[0m\u001b[1;33m,\u001b[0m\u001b[1;33m)\u001b[0m\u001b[1;33m,\u001b[0m\u001b[0mwidth\u001b[0m\u001b[1;33m=\u001b[0m\u001b[1;36m12\u001b[0m\u001b[1;33m,\u001b[0m\u001b[0mbg\u001b[0m\u001b[1;33m=\u001b[0m\u001b[1;34m\"grey\"\u001b[0m\u001b[1;33m)\u001b[0m\u001b[1;33m\u001b[0m\u001b[1;33m\u001b[0m\u001b[0m\n\u001b[0m\u001b[0;32m     64\u001b[0m \u001b[0mbutton5\u001b[0m\u001b[1;33m=\u001b[0m \u001b[0mButton\u001b[0m\u001b[1;33m(\u001b[0m\u001b[0mframe\u001b[0m\u001b[1;33m,\u001b[0m\u001b[0mtext\u001b[0m\u001b[1;33m=\u001b[0m\u001b[1;34m\"click here\"\u001b[0m\u001b[1;33m,\u001b[0m\u001b[0mcommand\u001b[0m\u001b[1;33m=\u001b[0m\u001b[0msportmedals\u001b[0m\u001b[1;33m,\u001b[0m\u001b[0mbd\u001b[0m \u001b[1;33m=\u001b[0m \u001b[1;36m5\u001b[0m\u001b[1;33m,\u001b[0m \u001b[0mfg\u001b[0m \u001b[1;33m=\u001b[0m \u001b[1;34m\"black\"\u001b[0m\u001b[1;33m,\u001b[0m\u001b[0mfont\u001b[0m\u001b[1;33m=\u001b[0m\u001b[1;33m(\u001b[0m\u001b[1;34m'mistral'\u001b[0m\u001b[1;33m,\u001b[0m\u001b[1;36m15\u001b[0m\u001b[1;33m,\u001b[0m\u001b[1;33m)\u001b[0m\u001b[1;33m,\u001b[0m\u001b[0mwidth\u001b[0m\u001b[1;33m=\u001b[0m\u001b[1;36m12\u001b[0m\u001b[1;33m,\u001b[0m\u001b[0mbg\u001b[0m\u001b[1;33m=\u001b[0m\u001b[1;34m\"grey\"\u001b[0m\u001b[1;33m)\u001b[0m\u001b[1;33m\u001b[0m\u001b[1;33m\u001b[0m\u001b[0m\n\u001b[0;32m     65\u001b[0m \u001b[0mbutton6\u001b[0m\u001b[1;33m=\u001b[0m \u001b[0mButton\u001b[0m\u001b[1;33m(\u001b[0m\u001b[0mframe\u001b[0m\u001b[1;33m,\u001b[0m\u001b[0mtext\u001b[0m\u001b[1;33m=\u001b[0m\u001b[1;34m\"click here\"\u001b[0m\u001b[1;33m,\u001b[0m\u001b[0mcommand\u001b[0m\u001b[1;33m=\u001b[0m\u001b[0mfmedal\u001b[0m\u001b[1;33m,\u001b[0m\u001b[0mbd\u001b[0m \u001b[1;33m=\u001b[0m \u001b[1;36m5\u001b[0m\u001b[1;33m,\u001b[0m \u001b[0mfg\u001b[0m \u001b[1;33m=\u001b[0m \u001b[1;34m\"black\"\u001b[0m\u001b[1;33m,\u001b[0m\u001b[0mfont\u001b[0m\u001b[1;33m=\u001b[0m\u001b[1;33m(\u001b[0m\u001b[1;34m'mistral'\u001b[0m\u001b[1;33m,\u001b[0m\u001b[1;36m15\u001b[0m\u001b[1;33m,\u001b[0m\u001b[1;33m)\u001b[0m\u001b[1;33m,\u001b[0m\u001b[0mwidth\u001b[0m\u001b[1;33m=\u001b[0m\u001b[1;36m12\u001b[0m\u001b[1;33m,\u001b[0m\u001b[0mbg\u001b[0m\u001b[1;33m=\u001b[0m\u001b[1;34m\"grey\"\u001b[0m\u001b[1;33m)\u001b[0m\u001b[1;33m\u001b[0m\u001b[1;33m\u001b[0m\u001b[0m\n",
      "\u001b[1;31mNameError\u001b[0m: name 'medalindia' is not defined"
     ]
    }
   ],
   "source": [
    "from tkinter import *\n",
    "import time\n",
    "import datetime\n",
    "\n",
    "root = Tk()\n",
    "root.geometry(\"1400x700\")\n",
    "root.title('Olympic Data Analysis')\n",
    "root.configure(background='#FFE4C4')\n",
    "\n",
    "tops=Frame(root,width=1400)\n",
    "tops.pack(side = TOP,)\n",
    "tops.configure(background='aquamarine')\n",
    "frame =Frame(root,width=800,height=700)\n",
    "frame.configure(background='#FFE4C4')\n",
    "frame.pack()\n",
    "\n",
    "localtime=time.asctime(time.localtime(time.time()))\n",
    "\n",
    "menu1=Menu(root)\n",
    "root.config(menu=menu1)\n",
    "subMenu1=Menu(menu1)\n",
    "\n",
    "menu1.add_cascade(label=\"File\",menu=subMenu1)\n",
    "subMenu1.add_command(label=\"Exit\",command=root.destroy)\n",
    "menu1.add_cascade(label=\"About\")\n",
    "\n",
    "labelinfo = Label(tops, font=('arial', 35, 'bold'), text=\"Olympics Data Analysis (1896-2016)\",bd=14, bg=\"red\", relief=\"solid\", fg=\"white\" )             \n",
    "labelinfo.grid(row = 0, column = 0)\n",
    "#Time Label\n",
    "labelinfo = Label(tops, font=('arial', 14, 'bold'),text = localtime, fg = \"Steel Blue\",bd = 10, anchor = 'w')               \n",
    "labelinfo.grid(row = 1, column = 0)\n",
    "labelinfo = Label(tops, font=('arial', 14, 'bold'),text = \"Graphs:\", fg = \"red\",bd = 10, anchor = 'w')               \n",
    "labelinfo.grid(row = 2, column = 0)\n",
    "\n",
    "labelinfo = Label(frame, font=('arial', 14, 'bold'),text=\"Male vs Female ratio in Olympics.                                       :\", fg = \"blue\",bd=10,bg=\"#FFFFAA\",anchor=W)\n",
    "labelinfo.grid(row = 0, column = 5)\n",
    "labelinfo = Label(frame, font=('arial', 14, 'bold'),  text=\"Number of Males participated per Olympics.                     :\", fg = \"blue\",bd=10,bg=\"#FFFFAA\", anchor=W)\n",
    "labelinfo.grid(row = 2, column = 5)\n",
    "labelinfo = Label(frame, font=('arial', 14, 'bold'),  text=\"Number of Females participated per Olympics.                 :\", fg = \"blue\",bg=\"#FFFFAA\",bd=10, anchor=W)\n",
    "labelinfo.grid(row = 3, column = 5)\n",
    "labelinfo = Label(frame, font=('arial', 14, 'bold'),  text=\"Medals  won  by  INDIA   in Olympics.                                   :\", fg = \"blue\",bg=\"#FFFFAA\",bd=10, anchor=W)\n",
    "labelinfo.grid(row = 4, column = 5)\n",
    "labelinfo = Label(frame, font=('arial', 14, 'bold'),  text=\"Sports wise distribution of medals won by INDIA.             :\", fg = \"blue\",bg=\"#FFFFAA\",bd=10, anchor='w')\n",
    "labelinfo.grid(row = 5, column = 5)\n",
    "labelinfo = Label(frame, font=('arial', 14, 'bold'),  text=\"Females participated in every Olympics from INDIA.         :\", fg = \"blue\",bg=\"#FFFFAA\",bd=10, anchor='w')\n",
    "labelinfo.grid(row = 6, column = 5)\n",
    "labelinfo = Label(frame, font=('arial', 14, 'bold'),  text=\"Male participated in every Olympics from INDIA.                :\", fg = \"blue\",bg=\"#FFFFAA\",bd=10, anchor='w')\n",
    "labelinfo.grid(row = 7, column = 5)\n",
    "labelinfo = Label(frame, font=('arial', 14, 'bold'),  text=\"Gold medals won by India in olympics.                                 :\", fg = \"blue\",bg=\"#FFFFAA\",bd=10, anchor='w')\n",
    "labelinfo.grid(row = 8, column = 5)\n",
    "#labelinfo = Label(frame, font=('arial', 14, 'bold'),  text=\"button9\", fg = \"red\",bd=10,)\n",
    "#labelinfo.grid(row = 9, column = 5)\n",
    "labelinfo = Label(frame, font=('arial', 14, 'bold'),  text=\"Gold medals won by different age groups in olympics.    :\", fg = \"blue\",bg=\"#FFFFAA\",bd=10,)\n",
    "labelinfo.grid(row = 10, column = 5)\n",
    "labelinfo = Label(frame, font=('arial', 14, 'bold'),  text=\"Silver medals won by different age groups in olympics.  :\", fg = \"blue\",bg=\"#FFFFAA\",bd=10,)\n",
    "labelinfo.grid(row = 11, column = 5)\n",
    "labelinfo = Label(frame, font=('arial', 14, 'bold'),  text=\"Bronze medals won by different age groups in olympics:\", fg = \"blue\",bg=\"#FFFFAA\",bd=10,)\n",
    "labelinfo.grid(row = 12, column = 5)\n",
    "\n",
    "button1= Button(frame,text=\"click here\",command=world,bd = 5, fg = \"black\",font=('mistral',15,),width=12,bg=\"grey\")\n",
    "button2= Button(frame,text=\"click here\",command=mworld,bd = 5, fg = \"black\",font=('mistral',15,),width=12,bg=\"grey\")\n",
    "button3= Button(frame,text='click here',command=fworld,bd = 5, fg = \"black\",font=('mistral',15,),width=12,bg=\"grey\")\n",
    "button4= Button(frame,text=\"click here\",command=medalindia,bd = 5, fg = \"black\",font=('mistral',15,),width=12,bg=\"grey\")\n",
    "button5= Button(frame,text=\"click here\",command=sportmedals,bd = 5, fg = \"black\",font=('mistral',15,),width=12,bg=\"grey\")\n",
    "button6= Button(frame,text=\"click here\",command=fmedal,bd = 5, fg = \"black\",font=('mistral',15,),width=12,bg=\"grey\")\n",
    "button7= Button(frame,text=\"click here\",command=mmedal,bd = 5, fg = \"black\",font=('mistral',15,),width=12,bg=\"grey\")\n",
    "button8= Button(frame,text=\"click here\",command=ygold,bd = 5, fg = \"black\",font=('mistral',15,),width=12,bg=\"grey\")\n",
    "#button9= Button(frame,text=\"click here\",command=season,bd = 5, fg = \"black\",font=('arial',13,),width=12,bg=\"grey\")\n",
    "button10=Button(frame,text=\"click here\",command=gAge,bd = 5, fg = \"black\",font=('mistral',15,),width=12,bg=\"grey\")\n",
    "button11=Button(frame,text=\"click here\",command=sAge,bd = 5, fg = \"black\",font=('mistral',15,),width=12,bg=\"grey\")\n",
    "button12=Button(frame,text=\"click here\",command=bAge,bd = 5, fg = \"black\",font=('mistral',15,),width=12,bg=\"grey\")\n",
    "\n",
    "\n",
    "\n",
    "button1.grid(row=0,column=20)\n",
    "button2.grid(row=2,column=20)\n",
    "button3.grid(row=3,column=20)\n",
    "button4.grid(row=4,column=20)\n",
    "button5.grid(row=5,column=20)\n",
    "button6.grid(row=6,column=20)\n",
    "button7.grid(row=7,column=20)\n",
    "button8.grid(row=8,column=20)\n",
    "#button9.grid(row=9,column=20)\n",
    "button10.grid(row=10,column=20)\n",
    "button11.grid(row=11,column=20)\n",
    "button12.grid(row=12,column=20)\n",
    "\n",
    "\n",
    "\n",
    "root.mainloop()"
   ]
  },
  {
   "cell_type": "code",
   "execution_count": null,
   "metadata": {},
   "outputs": [],
   "source": [
    "\n",
    "\n",
    "\n",
    "\n",
    "\n"
   ]
  },
  {
   "cell_type": "code",
   "execution_count": null,
   "metadata": {},
   "outputs": [],
   "source": []
  },
  {
   "cell_type": "code",
   "execution_count": null,
   "metadata": {},
   "outputs": [],
   "source": []
  },
  {
   "cell_type": "code",
   "execution_count": null,
   "metadata": {},
   "outputs": [],
   "source": []
  }
 ],
 "metadata": {
  "kernelspec": {
   "display_name": "Python 3 (ipykernel)",
   "language": "python",
   "name": "python3"
  },
  "language_info": {
   "codemirror_mode": {
    "name": "ipython",
    "version": 3
   },
   "file_extension": ".py",
   "mimetype": "text/x-python",
   "name": "python",
   "nbconvert_exporter": "python",
   "pygments_lexer": "ipython3",
   "version": "3.9.13"
  }
 },
 "nbformat": 4,
 "nbformat_minor": 2
}
